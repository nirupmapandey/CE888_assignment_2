{
 "cells": [
  {
   "cell_type": "code",
   "execution_count": 1,
   "metadata": {},
   "outputs": [],
   "source": [
    "## importing libraries\n",
    "import numpy as np\n",
    "import pandas as pd\n",
    "from pandas import Series, DataFrame\n",
    "import os\n",
    "import matplotlib.pyplot as plt\n",
    "get_ipython().magic('matplotlib inline')\n",
    "from sklearn.ensemble import RandomForestRegressor\n",
    "from sklearn.ensemble import RandomForestClassifier\n",
    "from sklearn.model_selection import cross_val_score\n",
    "from sklearn.preprocessing import LabelEncoder\n",
    "from sklearn.model_selection import train_test_split"
   ]
  },
  {
   "cell_type": "code",
   "execution_count": 2,
   "metadata": {},
   "outputs": [],
   "source": [
    "## reading files\n",
    "train = pd.read_csv('train.csv')\n",
    "test = pd.read_csv('test.csv')"
   ]
  },
  {
   "cell_type": "code",
   "execution_count": 3,
   "metadata": {},
   "outputs": [
    {
     "name": "stdout",
     "output_type": "stream",
     "text": [
      "id                       0\n",
      "timestamp                0\n",
      "full_sq                  0\n",
      "life_sq               6383\n",
      "floor                  167\n",
      "                      ... \n",
      "mosque_count_5000        0\n",
      "leisure_count_5000       0\n",
      "sport_count_5000         0\n",
      "market_count_5000        0\n",
      "price_doc                0\n",
      "Length: 292, dtype: int64 id                       0\n",
      "timestamp                0\n",
      "full_sq                  0\n",
      "life_sq               1176\n",
      "floor                    0\n",
      "                      ... \n",
      "church_count_5000        0\n",
      "mosque_count_5000        0\n",
      "leisure_count_5000       0\n",
      "sport_count_5000         0\n",
      "market_count_5000        0\n",
      "Length: 291, dtype: int64\n"
     ]
    }
   ],
   "source": [
    "#checking for NA values in train and test\n",
    "print(train.isna().sum(),test.isna().sum())"
   ]
  },
  {
   "cell_type": "code",
   "execution_count": 4,
   "metadata": {},
   "outputs": [],
   "source": [
    "#Dropping column id from train, not helpful in prediction\n",
    "train.drop(columns=['id'], inplace=True)\n",
    "#print(train)"
   ]
  },
  {
   "cell_type": "code",
   "execution_count": 5,
   "metadata": {},
   "outputs": [],
   "source": [
    "test.drop(columns=['id'], inplace=True)\n",
    "#print(test)"
   ]
  },
  {
   "cell_type": "code",
   "execution_count": 4,
   "metadata": {},
   "outputs": [],
   "source": [
    "## missing values imputation in train\n",
    "for i in train.columns:\n",
    "    if train[i].dtype == 'object':\n",
    "      train[i] = train[i].fillna(train[i].mode().iloc[0])\n",
    "    if (train[i].dtype == 'int' or train[i].dtype == 'float'):\n",
    "      train[i] = train[i].fillna(np.mean(train[i]))"
   ]
  },
  {
   "cell_type": "code",
   "execution_count": 5,
   "metadata": {},
   "outputs": [],
   "source": [
    "## missing values imputation in test\n",
    "for i in test.columns:\n",
    "    if test[i].dtype == 'object':\n",
    "      test[i] = test[i].fillna(test[i].mode().iloc[0])\n",
    "    if (test[i].dtype == 'int' or test[i].dtype == 'float'):\n",
    "      test[i] = test[i].fillna(np.mean(test[i]))"
   ]
  },
  {
   "cell_type": "code",
   "execution_count": 6,
   "metadata": {},
   "outputs": [],
   "source": [
    "## label encoding for categorial variables in train\n",
    "number = LabelEncoder()\n",
    "for i in train.columns:\n",
    "    if (train[i].dtype == 'object'):\n",
    "      train[i] = number.fit_transform(train[i].astype('str'))\n",
    "      train[i] = train[i].astype('object')"
   ]
  },
  {
   "cell_type": "code",
   "execution_count": 7,
   "metadata": {},
   "outputs": [],
   "source": [
    "## label encoding for categorial variables in test\n",
    "for i in test.columns:\n",
    "    if (test[i].dtype == 'object'):\n",
    "      test[i] = number.fit_transform(test[i].astype('str'))\n",
    "      test[i] = test[i].astype('object')"
   ]
  },
  {
   "cell_type": "code",
   "execution_count": 8,
   "metadata": {},
   "outputs": [],
   "source": [
    "## creating a new feature origin\n",
    "train['origin'] = 0                               # fix origin = 0 for all row in train\n",
    "test['origin'] = 1                                # fix origin = 1 for all row in train\n",
    "training = train.drop('price_doc',axis=1)         #droping target variable"
   ]
  },
  {
   "cell_type": "code",
   "execution_count": 9,
   "metadata": {},
   "outputs": [],
   "source": [
    "## taking sample from training and test data\n",
    "training = training.sample(7662, random_state=12)                 # a random sample selection from train\n",
    "testing = test.sample(7000, random_state=11)                      # a random sample selection from test"
   ]
  },
  {
   "cell_type": "code",
   "execution_count": 10,
   "metadata": {},
   "outputs": [],
   "source": [
    "## combining random samples\n",
    "combi = training.append(testing)\n",
    "y = combi['origin']\n",
    "combi.drop('origin',axis=1,inplace=True)              # dropping column Origin"
   ]
  },
  {
   "cell_type": "code",
   "execution_count": 11,
   "metadata": {},
   "outputs": [
    {
     "name": "stdout",
     "output_type": "stream",
     "text": [
      "market_count_5000 0.5617835887683187\n",
      "['id', 'timestamp', 'life_sq', 'kitch_sq', 'hospital_beds_raion', 'cafe_sum_500_min_price_avg', 'cafe_sum_500_max_price_avg', 'cafe_avg_price_500']\n"
     ]
    }
   ],
   "source": [
    "## defining and fitting model\n",
    "model = RandomForestClassifier(n_estimators = 50, max_depth = 5,min_samples_leaf = 5)\n",
    "drop_list = []                                           # initalise an array\n",
    "for i in combi.columns:\n",
    "    score = cross_val_score(model,pd.DataFrame(combi[i]),y,cv=2,scoring='roc_auc')           #taking one feature at a time and calculation roc_auc score\n",
    "    if (np.mean(score) > 0.8):                           \n",
    "        drop_list.append(i)                             # apend array drop_list for each feature scoring roc_auc more than treshold 0.8\n",
    "    #print(i,np.mean(score))\n",
    "print(drop_list)\n"
   ]
  },
  {
   "cell_type": "code",
   "execution_count": 15,
   "metadata": {},
   "outputs": [
    {
     "name": "stderr",
     "output_type": "stream",
     "text": [
      "C:\\Users\\HP\\anaconda\\lib\\site-packages\\ipykernel_launcher.py:6: FutureWarning: Sorting because non-concatenation axis is not aligned. A future version\n",
      "of pandas will change to not sort by default.\n",
      "\n",
      "To accept the future behavior, pass 'sort=False'.\n",
      "\n",
      "To retain the current behavior and silence the warning, pass 'sort=True'.\n",
      "\n",
      "  \n"
     ]
    },
    {
     "data": {
      "image/png": "[encoded data removed]",
      "text/plain": [
       "<Figure size 432x288 with 1 Axes>"
      ]
     },
     "metadata": {
      "needs_background": "light"
     },
     "output_type": "display_data"
    }
   ],
   "source": [
    "#Plotting histogram of drifting features to visualize the data shift\n",
    "train['Origin'] = 0                        # defining Origin = 0 for train data\n",
    "test['Origin'] = 1                         # defining Origin = 1 for train data\n",
    "combine_df=pd.concat([train,test], axis=0, ignore_index=True)              # concating both train and test as combine_df dataset\n",
    "plt.hist(combine_df.loc[combine_df['Origin'] == 0,\"timestamp\"], color=\"skyblue\", label=\"Origin=0\")\n",
    "plt.hist(combine_df.loc[combine_df['Origin'] == 1,\"timestamp\"],color=\"red\",alpha=.75, label=\"Origin=1\")\n",
    "plt.legend()\n",
    "plt.show()\n",
    "\n"
   ]
  },
  {
   "cell_type": "code",
   "execution_count": 32,
   "metadata": {},
   "outputs": [
    {
     "data": {
      "image/png": "[encoded data removed]",
      "text/plain": [
       "<Figure size 432x288 with 1 Axes>"
      ]
     },
     "metadata": {
      "needs_background": "light"
     },
     "output_type": "display_data"
    }
   ],
   "source": [
    "#Plotting histogram with life_sq feature to show the drift\n",
    "\n",
    "plt.hist(combine_df.loc[combine_df['Origin'] == 0,\"life_sq\"], color=\"skyblue\", label=\"Origin=0\")\n",
    "plt.hist(combine_df.loc[combine_df['Origin'] == 1,\"life_sq\"],color=\"red\",alpha=.75, label=\"Origin=1\")\n",
    "plt.legend()\n",
    "plt.show()"
   ]
  },
  {
   "cell_type": "code",
   "execution_count": 33,
   "metadata": {},
   "outputs": [
    {
     "data": {
      "image/png": "[encoded data removed]",
      "text/plain": [
       "<Figure size 432x288 with 1 Axes>"
      ]
     },
     "metadata": {
      "needs_background": "light"
     },
     "output_type": "display_data"
    }
   ],
   "source": [
    "#Plotting histogram with kitch_sq feature to show the drift\n",
    "\n",
    "plt.hist(combine_df.loc[combine_df['Origin'] == 0,\"kitch_sq\"], color=\"skyblue\", label=\"Origin=0\")\n",
    "plt.hist(combine_df.loc[combine_df['Origin'] == 1,\"kitch_sq\"],color=\"red\",alpha=.75, label=\"Origin=1\")\n",
    "plt.legend()\n",
    "plt.show()"
   ]
  },
  {
   "cell_type": "code",
   "execution_count": 34,
   "metadata": {},
   "outputs": [
    {
     "data": {
      "image/png": "[encoded data removed]",
      "text/plain": [
       "<Figure size 432x288 with 1 Axes>"
      ]
     },
     "metadata": {
      "needs_background": "light"
     },
     "output_type": "display_data"
    }
   ],
   "source": [
    "#Plotting histogram with hospital_beds_raion feature to show the drift\n",
    "\n",
    "plt.hist(combine_df.loc[combine_df['Origin'] == 0,\"hospital_beds_raion\"], color=\"skyblue\", label=\"Origin=0\")\n",
    "plt.hist(combine_df.loc[combine_df['Origin'] == 1,\"hospital_beds_raion\"],color=\"red\",alpha=.75, label=\"Origin=1\")\n",
    "plt.legend()\n",
    "plt.show()"
   ]
  },
  {
   "cell_type": "code",
   "execution_count": 35,
   "metadata": {},
   "outputs": [
    {
     "data": {
      "image/png": "[encoded data removed]",
      "text/plain": [
       "<Figure size 432x288 with 1 Axes>"
      ]
     },
     "metadata": {
      "needs_background": "light"
     },
     "output_type": "display_data"
    }
   ],
   "source": [
    "#Plotting histogram with cafe_sum_500_min_price_avg feature to show the drift\n",
    "\n",
    "plt.hist(combine_df.loc[combine_df['Origin'] == 0,\"cafe_sum_500_min_price_avg\"], color=\"skyblue\", label=\"Origin=0\")\n",
    "plt.hist(combine_df.loc[combine_df['Origin'] == 1,\"cafe_sum_500_min_price_avg\"],color=\"red\",alpha=.75, label=\"Origin=1\")\n",
    "plt.legend()\n",
    "plt.show()"
   ]
  },
  {
   "cell_type": "code",
   "execution_count": 36,
   "metadata": {},
   "outputs": [
    {
     "data": {
      "image/png": "[encoded data removed]",
      "text/plain": [
       "<Figure size 432x288 with 1 Axes>"
      ]
     },
     "metadata": {
      "needs_background": "light"
     },
     "output_type": "display_data"
    }
   ],
   "source": [
    "#Plotting histogram with cafe_sum_500_max_price_avg feature to show the drift\n",
    "\n",
    "plt.hist(combine_df.loc[combine_df['Origin'] == 0,\"cafe_sum_500_max_price_avg\"], color=\"skyblue\", label=\"Origin=0\")\n",
    "plt.hist(combine_df.loc[combine_df['Origin'] == 1,\"cafe_sum_500_max_price_avg\"],color=\"red\",alpha=.75, label=\"Origin=1\")\n",
    "plt.legend()\n",
    "plt.show()"
   ]
  },
  {
   "cell_type": "code",
   "execution_count": 37,
   "metadata": {},
   "outputs": [
    {
     "data": {
      "image/png": "[encoded data removed]",
      "text/plain": [
       "<Figure size 432x288 with 1 Axes>"
      ]
     },
     "metadata": {
      "needs_background": "light"
     },
     "output_type": "display_data"
    }
   ],
   "source": [
    "#Plotting histogram with cafe_avg_price_500 feature to show the drift\n",
    "\n",
    "plt.hist(combine_df.loc[combine_df['Origin'] == 0,\"cafe_avg_price_500\"], color=\"skyblue\", label=\"Origin=0\")\n",
    "plt.hist(combine_df.loc[combine_df['Origin'] == 1,\"cafe_avg_price_500\"],color=\"red\",alpha=.75, label=\"Origin=1\")\n",
    "plt.legend()\n",
    "plt.show()"
   ]
  },
  {
   "cell_type": "code",
   "execution_count": 12,
   "metadata": {},
   "outputs": [],
   "source": [
    "#Now we will train our model for checking accuracy with drift feature\n",
    "\n",
    "## taking sample from train and test data\n",
    "train_with_drift = train.sample(7662, random_state=12)\n",
    "test_with_drift = test.sample(7000, random_state=11)\n",
    "\n",
    "# defining an array labels, containing the values we want to predict\n",
    "labels = np.array(train_with_drift['price_doc'])\n",
    "\n",
    "# removing target variable to equate number of features in both train_with_drift & test_with_drift aataset\n",
    "train_with_drift= train_with_drift.drop('price_doc', axis = 1)\n",
    "\n",
    "\n",
    "# creating a list of features\n",
    "train_with_drift_list = list(train_with_drift.columns)\n",
    "\n",
    "# converting into an array\n",
    "train_with_drift = np.array(train_with_drift)"
   ]
  },
  {
   "cell_type": "code",
   "execution_count": 13,
   "metadata": {},
   "outputs": [],
   "source": [
    "# Splitting the data into 4 subsets for fitting our model, with 25% each\n",
    "train_features, test_features, train_labels, test_labels = train_test_split(train_with_drift, labels, test_size = 0.25, random_state = 40)\n",
    "\n",
    "# Instantiate model with 100 decision trees\n",
    "rf = RandomForestRegressor(n_estimators = 100, random_state = 10)\n",
    "\n",
    "# fitting model random forest on train subsets\n",
    "rf.fit(train_features, train_labels);"
   ]
  },
  {
   "cell_type": "code",
   "execution_count": 14,
   "metadata": {},
   "outputs": [
    {
     "name": "stdout",
     "output_type": "stream",
     "text": [
      "Accuracy: 61.16 %.\n"
     ]
    }
   ],
   "source": [
    "# applying trained model on test for checking accuracy\n",
    "predictions = rf.predict(test_features)\n",
    "\n",
    "# calculating absolute errors\n",
    "errors = abs(predictions - test_labels)\n",
    "\n",
    "# calculating mean absolute percentage error (MAPE)\n",
    "mape = 100 * (errors / test_labels)\n",
    "\n",
    "# Calculate and display accuracy of prediction \n",
    "accuracy = 100 - np.mean(mape)\n",
    "print('Accuracy:', round(accuracy, 2), '%.')"
   ]
  },
  {
   "cell_type": "code",
   "execution_count": 15,
   "metadata": {},
   "outputs": [],
   "source": [
    "# plotting 20 features covering important informance for prediction\n",
    "features = train.drop('price_doc',axis=1).columns.values\n",
    "imp = rf.feature_importances_\n",
    "indices = np.argsort(imp)[::-1][:20]"
   ]
  },
  {
   "cell_type": "code",
   "execution_count": 16,
   "metadata": {},
   "outputs": [
    {
     "data": {
      "image/png": "[encoded data removed]",
      "text/plain": [
       "<Figure size 576x360 with 1 Axes>"
      ]
     },
     "metadata": {
      "needs_background": "light"
     },
     "output_type": "display_data"
    }
   ],
   "source": [
    "#plotting 20 such features containing maximum information for prediction\n",
    "plt.figure(figsize=(8,5))\n",
    "plt.bar(range(len(indices)), imp[indices], color = 'b', align='center')\n",
    "plt.xticks(range(len(indices)), features[indices], rotation='vertical')\n",
    "plt.xlim([-1,len(indices)])\n",
    "plt.show()"
   ]
  },
  {
   "cell_type": "code",
   "execution_count": 17,
   "metadata": {},
   "outputs": [],
   "source": [
    "## manully checked for features not coming dropping drifting features which are not important.\n",
    "drift_train = training.drop(['id','hospital_beds_raion','cafe_sum_500_min_price_avg','cafe_sum_500_max_price_avg','cafe_avg_price_500'], axis=1)\n",
    "drift_test = testing.drop(['id','hospital_beds_raion','cafe_sum_500_min_price_avg','cafe_sum_500_max_price_avg','cafe_avg_price_500'], axis=1)"
   ]
  },
  {
   "cell_type": "code",
   "execution_count": 18,
   "metadata": {},
   "outputs": [
    {
     "data": {
      "text/plain": [
       "RandomForestRegressor(bootstrap=True, criterion='mse', max_depth=None,\n",
       "                      max_features='auto', max_leaf_nodes=None,\n",
       "                      min_impurity_decrease=0.0, min_impurity_split=None,\n",
       "                      min_samples_leaf=1, min_samples_split=2,\n",
       "                      min_weight_fraction_leaf=0.0, n_estimators=100,\n",
       "                      n_jobs=None, oob_score=False, random_state=10, verbose=0,\n",
       "                      warm_start=False)"
      ]
     },
     "execution_count": 18,
     "metadata": {},
     "output_type": "execute_result"
    }
   ],
   "source": [
    "# Splitting the data into 4 subsets for fitting our model, with 25% each\n",
    "drift_train_features, drift_test_features, drift_train_labels, drift_test_labels = train_test_split(drift_train, labels, test_size = 0.25, random_state = 40)\n",
    "\n",
    "# Instantiate model with 100 decision trees\n",
    "drf = RandomForestRegressor(n_estimators = 100, random_state = 10)\n",
    "\n",
    "# fitting model random forest on train subsets\n",
    "drf.fit(drift_train_features, drift_train_labels)"
   ]
  },
  {
   "cell_type": "code",
   "execution_count": 19,
   "metadata": {},
   "outputs": [
    {
     "name": "stdout",
     "output_type": "stream",
     "text": [
      " Accuracy score after remove drift feature: 61.13 %.\n"
     ]
    }
   ],
   "source": [
    "# # applying trained model on test for checking accuracy\n",
    "drf_predictions = drf.predict(drift_test_features)\n",
    "\n",
    "# calculating the absolute errors\n",
    "drf_errors = abs(drf_predictions - drift_test_labels)\n",
    "\n",
    "# calculating mean absolute percentage error (MAPE)\n",
    "drf_mape = 100 * (drf_errors / drift_test_labels)\n",
    "\n",
    "# Calculate and display accuracy of prediction \n",
    "drf_accuracy = 100 - np.mean(drf_mape)\n",
    "print(' Accuracy score after remove drift feature:', round(drf_accuracy, 2), '%.')"
   ]
  },
  {
   "cell_type": "code",
   "execution_count": null,
   "metadata": {},
   "outputs": [],
   "source": []
  }
 ],
 "metadata": {
  "kernelspec": {
   "display_name": "Python 3",
   "language": "python",
   "name": "python3"
  },
  "language_info": {
   "codemirror_mode": {
    "name": "ipython",
    "version": 3
   },
   "file_extension": ".py",
   "mimetype": "text/x-python",
   "name": "python",
   "nbconvert_exporter": "python",
   "pygments_lexer": "ipython3",
   "version": "3.7.4"
  }
 },
 "nbformat": 4,
 "nbformat_minor": 4
}
